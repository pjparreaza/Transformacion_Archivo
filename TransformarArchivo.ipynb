{
 "cells": [
  {
   "cell_type": "markdown",
   "id": "5147c0f8",
   "metadata": {},
   "source": [
    "🧠 Paso 1: Importar librerías esenciales"
   ]
  },
  {
   "cell_type": "code",
   "execution_count": 65,
   "id": "9e239982",
   "metadata": {},
   "outputs": [],
   "source": [
    "import pandas as pd\n",
    "import numpy as np\n"
   ]
  },
  {
   "cell_type": "markdown",
   "id": "07b384e1",
   "metadata": {},
   "source": [
    "📂 Paso 2: Leer el archivo .csv"
   ]
  },
  {
   "cell_type": "markdown",
   "id": "124e045c",
   "metadata": {},
   "source": [
    "Carga básica\n",
    "    df = pd.read_csv('ruta/al/archivo.csv')\n",
    "\n",
    "Si el separador no es coma (por ejemplo, punto y coma)\n",
    "    df = pd.read_csv('archivo.csv', sep=';')\n",
    "\n",
    "Si hay problemas de codificación\n",
    "    df = pd.read_csv('archivo.csv', encoding='utf-8')  # o 'latin1', 'ISO-8859-1'\n"
   ]
  },
  {
   "cell_type": "code",
   "execution_count": 66,
   "id": "7a613a6b",
   "metadata": {},
   "outputs": [],
   "source": [
    "# df = pd.read_csv('/workspaces/Transformacion_Archivo/RQMSFIPXEODVersDAILY5pm-uZX2oH2yLbyU-20250821T210000Z.csv')\n",
    "# df"
   ]
  },
  {
   "cell_type": "code",
   "execution_count": 67,
   "id": "c1effb63",
   "metadata": {},
   "outputs": [],
   "source": [
    "\n",
    "import os  \n",
    "\n",
    "def cargar_archivo_por_fecha(fecha_str):\n",
    "    \"\"\"\n",
    "    Carga un archivo CSV basado en la fecha proporcionada (formato YYYYMMDD).\n",
    "    Retorna un DataFrame si el archivo existe, o lanza una excepción si no.\n",
    "    \"\"\"\n",
    "    # Componentes del nombre\n",
    "    componente_1 = \"/workspaces/Transformacion_Archivo/RQMSFIPXEODVersDAILY5pm-uZX2oH2yLbyU-\"\n",
    "    componente_3 = \"T210000Z.csv\"\n",
    "    \n",
    "    # Construir ruta completa\n",
    "    ruta_archivo = componente_1 + fecha_str + componente_3\n",
    "\n",
    "    # Verificar existencia y cargar\n",
    "    if os.path.exists(ruta_archivo):\n",
    "        df = pd.read_csv(ruta_archivo)\n",
    "        print(f\"✅ Archivo cargado: {ruta_archivo}\")\n",
    "        return df\n",
    "    else:\n",
    "        raise FileNotFoundError(f\"❌ El archivo no existe: {ruta_archivo}\")\n"
   ]
  },
  {
   "cell_type": "code",
   "execution_count": 68,
   "id": "1db8b5ef",
   "metadata": {},
   "outputs": [
    {
     "name": "stdout",
     "output_type": "stream",
     "text": [
      "✅ Archivo cargado: /workspaces/Transformacion_Archivo/RQMSFIPXEODVersDAILY5pm-uZX2oH2yLbyU-20250820T210000Z.csv\n"
     ]
    }
   ],
   "source": [
    "# Fecha deseada\n",
    "fecha_deseada = \"20250820\"\n",
    "\n",
    "# Cargar el archivo correspondiente\n",
    "df = cargar_archivo_por_fecha(fecha_deseada)\n"
   ]
  },
  {
   "cell_type": "code",
   "execution_count": 69,
   "id": "5094f0e9",
   "metadata": {},
   "outputs": [
    {
     "data": {
      "text/html": [
       "<div>\n",
       "<style scoped>\n",
       "    .dataframe tbody tr th:only-of-type {\n",
       "        vertical-align: middle;\n",
       "    }\n",
       "\n",
       "    .dataframe tbody tr th {\n",
       "        vertical-align: top;\n",
       "    }\n",
       "\n",
       "    .dataframe thead th {\n",
       "        text-align: right;\n",
       "    }\n",
       "</style>\n",
       "<table border=\"1\" class=\"dataframe\">\n",
       "  <thead>\n",
       "    <tr style=\"text-align: right;\">\n",
       "      <th></th>\n",
       "      <th>ID_BB_GLOBAL</th>\n",
       "      <th>YLD_YTM_MID</th>\n",
       "      <th>DUR_ADJ_MID</th>\n",
       "    </tr>\n",
       "  </thead>\n",
       "  <tbody>\n",
       "    <tr>\n",
       "      <th>0</th>\n",
       "      <td>BBG000DZG3K1</td>\n",
       "      <td>NaN</td>\n",
       "      <td>NaN</td>\n",
       "    </tr>\n",
       "    <tr>\n",
       "      <th>1</th>\n",
       "      <td>BBG000D22JS6</td>\n",
       "      <td>NaN</td>\n",
       "      <td>NaN</td>\n",
       "    </tr>\n",
       "    <tr>\n",
       "      <th>2</th>\n",
       "      <td>BBG000CYM0B4</td>\n",
       "      <td>NaN</td>\n",
       "      <td>NaN</td>\n",
       "    </tr>\n",
       "    <tr>\n",
       "      <th>3</th>\n",
       "      <td>BBG000BFZMY9</td>\n",
       "      <td>NaN</td>\n",
       "      <td>NaN</td>\n",
       "    </tr>\n",
       "    <tr>\n",
       "      <th>4</th>\n",
       "      <td>BBG000BTG1B1</td>\n",
       "      <td>NaN</td>\n",
       "      <td>NaN</td>\n",
       "    </tr>\n",
       "    <tr>\n",
       "      <th>...</th>\n",
       "      <td>...</td>\n",
       "      <td>...</td>\n",
       "      <td>...</td>\n",
       "    </tr>\n",
       "    <tr>\n",
       "      <th>1476</th>\n",
       "      <td>BBG000K48R55</td>\n",
       "      <td>NaN</td>\n",
       "      <td>NaN</td>\n",
       "    </tr>\n",
       "    <tr>\n",
       "      <th>1477</th>\n",
       "      <td>BBG00JNJXWS4</td>\n",
       "      <td>4.438</td>\n",
       "      <td>2.248</td>\n",
       "    </tr>\n",
       "    <tr>\n",
       "      <th>1478</th>\n",
       "      <td>BBG000C4DSW6</td>\n",
       "      <td>NaN</td>\n",
       "      <td>NaN</td>\n",
       "    </tr>\n",
       "    <tr>\n",
       "      <th>1479</th>\n",
       "      <td>BBG01VS5NK99</td>\n",
       "      <td>NaN</td>\n",
       "      <td>NaN</td>\n",
       "    </tr>\n",
       "    <tr>\n",
       "      <th>1480</th>\n",
       "      <td>BBG01WTT9QG9</td>\n",
       "      <td>6.462</td>\n",
       "      <td>3.779</td>\n",
       "    </tr>\n",
       "  </tbody>\n",
       "</table>\n",
       "<p>1481 rows × 3 columns</p>\n",
       "</div>"
      ],
      "text/plain": [
       "      ID_BB_GLOBAL  YLD_YTM_MID  DUR_ADJ_MID\n",
       "0     BBG000DZG3K1          NaN          NaN\n",
       "1     BBG000D22JS6          NaN          NaN\n",
       "2     BBG000CYM0B4          NaN          NaN\n",
       "3     BBG000BFZMY9          NaN          NaN\n",
       "4     BBG000BTG1B1          NaN          NaN\n",
       "...            ...          ...          ...\n",
       "1476  BBG000K48R55          NaN          NaN\n",
       "1477  BBG00JNJXWS4        4.438        2.248\n",
       "1478  BBG000C4DSW6          NaN          NaN\n",
       "1479  BBG01VS5NK99          NaN          NaN\n",
       "1480  BBG01WTT9QG9        6.462        3.779\n",
       "\n",
       "[1481 rows x 3 columns]"
      ]
     },
     "execution_count": 69,
     "metadata": {},
     "output_type": "execute_result"
    }
   ],
   "source": [
    "df0 = df[['ID_BB_GLOBAL', 'YLD_YTM_MID', 'DUR_ADJ_MID']]\n",
    "df0"
   ]
  },
  {
   "cell_type": "code",
   "execution_count": 70,
   "id": "1089aa0e",
   "metadata": {},
   "outputs": [],
   "source": [
    "# Eliminemos los valores repetidos\n",
    "\n",
    "df1 = df0.drop_duplicates(subset='ID_BB_GLOBAL', keep='first').copy()\n"
   ]
  },
  {
   "cell_type": "code",
   "execution_count": 71,
   "id": "de842ae0",
   "metadata": {},
   "outputs": [
    {
     "name": "stdout",
     "output_type": "stream",
     "text": [
      "['ID_BB_GLOBAL', 'YLD_YTM_MID', 'DUR_ADJ_MID']\n"
     ]
    }
   ],
   "source": [
    "print(df1.columns.tolist())\n"
   ]
  },
  {
   "cell_type": "code",
   "execution_count": 72,
   "id": "475a08b3",
   "metadata": {},
   "outputs": [
    {
     "name": "stdout",
     "output_type": "stream",
     "text": [
      "     ID_BB_GLOBAL  YLD_YTM_MID  DUR_ADJ_MID\n",
      "984  BBG018WMWRL9          NaN        0.949\n",
      "\n",
      "      ID_BB_GLOBAL  YLD_YTM_MID  DUR_ADJ_MID\n",
      "1057  BBG01S53T815          NaN        0.485\n"
     ]
    }
   ],
   "source": [
    "# Supongamos que 'ID_BB_GLOBAL' es una columna\n",
    "fila1 = df1[df1['ID_BB_GLOBAL'] == 'BBG018WMWRL9']\n",
    "print(fila1)\n",
    "print(\"\")\n",
    "fila2 = df1[df1['ID_BB_GLOBAL'] == 'BBG01S53T815']\n",
    "print(fila2)\n"
   ]
  },
  {
   "cell_type": "code",
   "execution_count": 73,
   "id": "41d06236",
   "metadata": {},
   "outputs": [],
   "source": [
    "# Paso 1: Eliminar filas donde YLD_YTM_MID y DUR_ADJ_MID son ambos NaN\n",
    "df2 = df1[~(df1[['YLD_YTM_MID', 'DUR_ADJ_MID']].isna().all(axis=1))].copy()\n",
    "\n",
    "# Paso 2: Reemplazar los NaN restantes por 0\n",
    "df3 = df2.fillna(0).copy()\n"
   ]
  },
  {
   "cell_type": "code",
   "execution_count": 74,
   "id": "111e4851",
   "metadata": {},
   "outputs": [
    {
     "data": {
      "text/html": [
       "<div>\n",
       "<style scoped>\n",
       "    .dataframe tbody tr th:only-of-type {\n",
       "        vertical-align: middle;\n",
       "    }\n",
       "\n",
       "    .dataframe tbody tr th {\n",
       "        vertical-align: top;\n",
       "    }\n",
       "\n",
       "    .dataframe thead th {\n",
       "        text-align: right;\n",
       "    }\n",
       "</style>\n",
       "<table border=\"1\" class=\"dataframe\">\n",
       "  <thead>\n",
       "    <tr style=\"text-align: right;\">\n",
       "      <th></th>\n",
       "      <th>ID_BB_GLOBAL</th>\n",
       "      <th>YLD_YTM_MID</th>\n",
       "      <th>DUR_ADJ_MID</th>\n",
       "    </tr>\n",
       "  </thead>\n",
       "  <tbody>\n",
       "    <tr>\n",
       "      <th>10</th>\n",
       "      <td>BBG00Q5L6G62</td>\n",
       "      <td>5.422</td>\n",
       "      <td>14.952</td>\n",
       "    </tr>\n",
       "    <tr>\n",
       "      <th>13</th>\n",
       "      <td>BBG00KDPQMB6</td>\n",
       "      <td>5.650</td>\n",
       "      <td>15.048</td>\n",
       "    </tr>\n",
       "    <tr>\n",
       "      <th>19</th>\n",
       "      <td>BBG00NB2Z5H4</td>\n",
       "      <td>5.583</td>\n",
       "      <td>9.074</td>\n",
       "    </tr>\n",
       "    <tr>\n",
       "      <th>20</th>\n",
       "      <td>BBG00NB2Z628</td>\n",
       "      <td>6.169</td>\n",
       "      <td>13.996</td>\n",
       "    </tr>\n",
       "    <tr>\n",
       "      <th>21</th>\n",
       "      <td>BBG00DSQ1X81</td>\n",
       "      <td>6.001</td>\n",
       "      <td>12.757</td>\n",
       "    </tr>\n",
       "    <tr>\n",
       "      <th>...</th>\n",
       "      <td>...</td>\n",
       "      <td>...</td>\n",
       "      <td>...</td>\n",
       "    </tr>\n",
       "    <tr>\n",
       "      <th>1408</th>\n",
       "      <td>BBG00HC3QXH3</td>\n",
       "      <td>3.744</td>\n",
       "      <td>1.914</td>\n",
       "    </tr>\n",
       "    <tr>\n",
       "      <th>1413</th>\n",
       "      <td>BBG000FYM9P7</td>\n",
       "      <td>3.802</td>\n",
       "      <td>4.065</td>\n",
       "    </tr>\n",
       "    <tr>\n",
       "      <th>1467</th>\n",
       "      <td>BBG007JNL349</td>\n",
       "      <td>4.392</td>\n",
       "      <td>1.190</td>\n",
       "    </tr>\n",
       "    <tr>\n",
       "      <th>1477</th>\n",
       "      <td>BBG00JNJXWS4</td>\n",
       "      <td>4.438</td>\n",
       "      <td>2.248</td>\n",
       "    </tr>\n",
       "    <tr>\n",
       "      <th>1480</th>\n",
       "      <td>BBG01WTT9QG9</td>\n",
       "      <td>6.462</td>\n",
       "      <td>3.779</td>\n",
       "    </tr>\n",
       "  </tbody>\n",
       "</table>\n",
       "<p>704 rows × 3 columns</p>\n",
       "</div>"
      ],
      "text/plain": [
       "      ID_BB_GLOBAL  YLD_YTM_MID  DUR_ADJ_MID\n",
       "10    BBG00Q5L6G62        5.422       14.952\n",
       "13    BBG00KDPQMB6        5.650       15.048\n",
       "19    BBG00NB2Z5H4        5.583        9.074\n",
       "20    BBG00NB2Z628        6.169       13.996\n",
       "21    BBG00DSQ1X81        6.001       12.757\n",
       "...            ...          ...          ...\n",
       "1408  BBG00HC3QXH3        3.744        1.914\n",
       "1413  BBG000FYM9P7        3.802        4.065\n",
       "1467  BBG007JNL349        4.392        1.190\n",
       "1477  BBG00JNJXWS4        4.438        2.248\n",
       "1480  BBG01WTT9QG9        6.462        3.779\n",
       "\n",
       "[704 rows x 3 columns]"
      ]
     },
     "execution_count": 74,
     "metadata": {},
     "output_type": "execute_result"
    }
   ],
   "source": [
    "df2"
   ]
  },
  {
   "cell_type": "code",
   "execution_count": 75,
   "id": "b1a6f461",
   "metadata": {},
   "outputs": [
    {
     "data": {
      "text/html": [
       "<div>\n",
       "<style scoped>\n",
       "    .dataframe tbody tr th:only-of-type {\n",
       "        vertical-align: middle;\n",
       "    }\n",
       "\n",
       "    .dataframe tbody tr th {\n",
       "        vertical-align: top;\n",
       "    }\n",
       "\n",
       "    .dataframe thead th {\n",
       "        text-align: right;\n",
       "    }\n",
       "</style>\n",
       "<table border=\"1\" class=\"dataframe\">\n",
       "  <thead>\n",
       "    <tr style=\"text-align: right;\">\n",
       "      <th></th>\n",
       "      <th>ID_BB_GLOBAL</th>\n",
       "      <th>YLD_YTM_MID</th>\n",
       "      <th>DUR_ADJ_MID</th>\n",
       "    </tr>\n",
       "  </thead>\n",
       "  <tbody>\n",
       "    <tr>\n",
       "      <th>10</th>\n",
       "      <td>BBG00Q5L6G62</td>\n",
       "      <td>5.422</td>\n",
       "      <td>14.952</td>\n",
       "    </tr>\n",
       "    <tr>\n",
       "      <th>13</th>\n",
       "      <td>BBG00KDPQMB6</td>\n",
       "      <td>5.650</td>\n",
       "      <td>15.048</td>\n",
       "    </tr>\n",
       "    <tr>\n",
       "      <th>19</th>\n",
       "      <td>BBG00NB2Z5H4</td>\n",
       "      <td>5.583</td>\n",
       "      <td>9.074</td>\n",
       "    </tr>\n",
       "    <tr>\n",
       "      <th>20</th>\n",
       "      <td>BBG00NB2Z628</td>\n",
       "      <td>6.169</td>\n",
       "      <td>13.996</td>\n",
       "    </tr>\n",
       "    <tr>\n",
       "      <th>21</th>\n",
       "      <td>BBG00DSQ1X81</td>\n",
       "      <td>6.001</td>\n",
       "      <td>12.757</td>\n",
       "    </tr>\n",
       "    <tr>\n",
       "      <th>...</th>\n",
       "      <td>...</td>\n",
       "      <td>...</td>\n",
       "      <td>...</td>\n",
       "    </tr>\n",
       "    <tr>\n",
       "      <th>1408</th>\n",
       "      <td>BBG00HC3QXH3</td>\n",
       "      <td>3.744</td>\n",
       "      <td>1.914</td>\n",
       "    </tr>\n",
       "    <tr>\n",
       "      <th>1413</th>\n",
       "      <td>BBG000FYM9P7</td>\n",
       "      <td>3.802</td>\n",
       "      <td>4.065</td>\n",
       "    </tr>\n",
       "    <tr>\n",
       "      <th>1467</th>\n",
       "      <td>BBG007JNL349</td>\n",
       "      <td>4.392</td>\n",
       "      <td>1.190</td>\n",
       "    </tr>\n",
       "    <tr>\n",
       "      <th>1477</th>\n",
       "      <td>BBG00JNJXWS4</td>\n",
       "      <td>4.438</td>\n",
       "      <td>2.248</td>\n",
       "    </tr>\n",
       "    <tr>\n",
       "      <th>1480</th>\n",
       "      <td>BBG01WTT9QG9</td>\n",
       "      <td>6.462</td>\n",
       "      <td>3.779</td>\n",
       "    </tr>\n",
       "  </tbody>\n",
       "</table>\n",
       "<p>704 rows × 3 columns</p>\n",
       "</div>"
      ],
      "text/plain": [
       "      ID_BB_GLOBAL  YLD_YTM_MID  DUR_ADJ_MID\n",
       "10    BBG00Q5L6G62        5.422       14.952\n",
       "13    BBG00KDPQMB6        5.650       15.048\n",
       "19    BBG00NB2Z5H4        5.583        9.074\n",
       "20    BBG00NB2Z628        6.169       13.996\n",
       "21    BBG00DSQ1X81        6.001       12.757\n",
       "...            ...          ...          ...\n",
       "1408  BBG00HC3QXH3        3.744        1.914\n",
       "1413  BBG000FYM9P7        3.802        4.065\n",
       "1467  BBG007JNL349        4.392        1.190\n",
       "1477  BBG00JNJXWS4        4.438        2.248\n",
       "1480  BBG01WTT9QG9        6.462        3.779\n",
       "\n",
       "[704 rows x 3 columns]"
      ]
     },
     "execution_count": 75,
     "metadata": {},
     "output_type": "execute_result"
    }
   ],
   "source": [
    "df3"
   ]
  },
  {
   "cell_type": "code",
   "execution_count": 76,
   "id": "759bfc77",
   "metadata": {},
   "outputs": [
    {
     "name": "stdout",
     "output_type": "stream",
     "text": [
      "['ID_BB_GLOBAL', 'YLD_YTM_MID', 'DUR_ADJ_MID']\n"
     ]
    }
   ],
   "source": [
    "print(df3.columns.tolist())"
   ]
  },
  {
   "cell_type": "code",
   "execution_count": 77,
   "id": "4c847782",
   "metadata": {},
   "outputs": [
    {
     "name": "stdout",
     "output_type": "stream",
     "text": [
      "     ID_BB_GLOBAL  YLD_YTM_MID  DUR_ADJ_MID\n",
      "984  BBG018WMWRL9          0.0        0.949\n",
      "\n",
      "      ID_BB_GLOBAL  YLD_YTM_MID  DUR_ADJ_MID\n",
      "1057  BBG01S53T815          0.0        0.485\n"
     ]
    }
   ],
   "source": [
    "# Supongamos que 'ID_BB_GLOBAL' es una columna\n",
    "fila3 = df3[df3['ID_BB_GLOBAL'] == 'BBG018WMWRL9']\n",
    "print(fila3)\n",
    "print(\"\")\n",
    "fila4 = df3[df3['ID_BB_GLOBAL'] == 'BBG01S53T815']\n",
    "print(fila4)"
   ]
  },
  {
   "cell_type": "code",
   "execution_count": 78,
   "id": "c395ae92",
   "metadata": {},
   "outputs": [],
   "source": [
    "# pip install openpyxl\n",
    "\n",
    "df3.to_excel('yield_duration.xlsx', index=False)\n"
   ]
  }
 ],
 "metadata": {
  "kernelspec": {
   "display_name": "Python 3",
   "language": "python",
   "name": "python3"
  },
  "language_info": {
   "codemirror_mode": {
    "name": "ipython",
    "version": 3
   },
   "file_extension": ".py",
   "mimetype": "text/x-python",
   "name": "python",
   "nbconvert_exporter": "python",
   "pygments_lexer": "ipython3",
   "version": "3.12.1"
  }
 },
 "nbformat": 4,
 "nbformat_minor": 5
}
