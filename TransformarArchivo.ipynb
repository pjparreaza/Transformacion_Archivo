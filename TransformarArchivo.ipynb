{
 "cells": [
  {
   "cell_type": "markdown",
   "id": "5147c0f8",
   "metadata": {},
   "source": [
    "🧠 Paso 1: Importar librerías esenciales"
   ]
  },
  {
   "cell_type": "code",
   "execution_count": 3,
   "id": "9e239982",
   "metadata": {},
   "outputs": [],
   "source": [
    "import pandas as pd\n",
    "import numpy as np\n"
   ]
  },
  {
   "cell_type": "markdown",
   "id": "07b384e1",
   "metadata": {},
   "source": [
    "📂 Paso 2: Leer el archivo .csv"
   ]
  },
  {
   "cell_type": "markdown",
   "id": "124e045c",
   "metadata": {},
   "source": [
    "Carga básica\n",
    "    df = pd.read_csv('ruta/al/archivo.csv')\n",
    "\n",
    "Si el separador no es coma (por ejemplo, punto y coma)\n",
    "    df = pd.read_csv('archivo.csv', sep=';')\n",
    "\n",
    "Si hay problemas de codificación\n",
    "    df = pd.read_csv('archivo.csv', encoding='utf-8')  # o 'latin1', 'ISO-8859-1'\n"
   ]
  },
  {
   "cell_type": "code",
   "execution_count": 7,
   "id": "7a613a6b",
   "metadata": {},
   "outputs": [],
   "source": [
    "df = pd.read_csv('/workspaces/Transformacion_Archivo/RQMSFIPXEODVersDAILY5pm-uZX2oH2yLbyU-20250819T210000Z.csv')"
   ]
  },
  {
   "cell_type": "code",
   "execution_count": 8,
   "id": "ac6e81a4",
   "metadata": {},
   "outputs": [],
   "source": [
    "#  !pip install openpyxl\n",
    "\n",
    "\n",
    "# Exportar el DataFrame df a un archivo Excel\n",
    "df.to_excel('yield_duration.xlsx', index=False)\n"
   ]
  }
 ],
 "metadata": {
  "kernelspec": {
   "display_name": "Python 3",
   "language": "python",
   "name": "python3"
  },
  "language_info": {
   "codemirror_mode": {
    "name": "ipython",
    "version": 3
   },
   "file_extension": ".py",
   "mimetype": "text/x-python",
   "name": "python",
   "nbconvert_exporter": "python",
   "pygments_lexer": "ipython3",
   "version": "3.12.1"
  }
 },
 "nbformat": 4,
 "nbformat_minor": 5
}
